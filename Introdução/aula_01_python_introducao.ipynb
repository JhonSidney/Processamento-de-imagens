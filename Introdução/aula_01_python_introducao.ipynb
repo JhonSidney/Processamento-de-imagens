{
  "nbformat": 4,
  "nbformat_minor": 0,
  "metadata": {
    "kernelspec": {
      "name": "python36",
      "display_name": "Python 3.6",
      "language": "python"
    },
    "language_info": {
      "mimetype": "text/x-python",
      "nbconvert_exporter": "python",
      "name": "python",
      "pygments_lexer": "ipython3",
      "version": "3.6.6",
      "file_extension": ".py",
      "codemirror_mode": {
        "version": 3,
        "name": "ipython"
      }
    },
    "colab": {
      "name": "aula_01_python_introducao.ipynb",
      "version": "0.3.2",
      "provenance": [],
      "include_colab_link": true
    }
  },
  "cells": [
    {
      "cell_type": "markdown",
      "metadata": {
        "id": "view-in-github",
        "colab_type": "text"
      },
      "source": [
        "<a href=\"https://colab.research.google.com/github/valmirf/processamento_imagens/blob/master/Introdu%C3%A7%C3%A3o/aula_01_python_introducao.ipynb\" target=\"_parent\"><img src=\"https://colab.research.google.com/assets/colab-badge.svg\" alt=\"Open In Colab\"/></a>"
      ]
    },
    {
      "cell_type": "code",
      "metadata": {
        "id": "QnbbmyPfkl3t",
        "colab_type": "code",
        "outputId": "897dc54e-4d72-480a-87cd-e7f3863c1431",
        "colab": {
          "base_uri": "https://localhost:8080/",
          "height": 91
        }
      },
      "source": [
        "!git clone https://github.com/valmirf/processamento_imagens.git"
      ],
      "execution_count": 1,
      "outputs": [
        {
          "output_type": "stream",
          "text": [
            "Cloning into 'processamento_imagens'...\n",
            "remote: Enumerating objects: 71, done.\u001b[K\n",
            "remote: Total 71 (delta 0), reused 0 (delta 0), pack-reused 71\u001b[K\n",
            "Unpacking objects: 100% (71/71), done.\n"
          ],
          "name": "stdout"
        }
      ]
    },
    {
      "cell_type": "markdown",
      "metadata": {
        "collapsed": true,
        "id": "ke8xpUKFdLR1",
        "colab_type": "text"
      },
      "source": [
        "# Introdução ao Python"
      ]
    },
    {
      "cell_type": "markdown",
      "metadata": {
        "id": "TwD-fk4bdLR5",
        "colab_type": "text"
      },
      "source": [
        "## 1. Variáveis"
      ]
    },
    {
      "cell_type": "markdown",
      "metadata": {
        "id": "CF2BIwNIdLR8",
        "colab_type": "text"
      },
      "source": [
        "Um nome que é usado para denotar algo ou um valor é chamado de variável. No python, variáveis ​​podem ser declaradas e valores podem ser atribuídos a ela da seguinte maneira,"
      ]
    },
    {
      "cell_type": "code",
      "metadata": {
        "trusted": true,
        "id": "bMP2ABMTdLR-",
        "colab_type": "code",
        "outputId": "1a9a2cdd-1ddc-47e6-8e5c-1dbd063dc8e3",
        "colab": {
          "base_uri": "https://localhost:8080/",
          "height": 36
        }
      },
      "source": [
        "x = 2\n",
        "y = 5.2\n",
        "xy = 'Hey'\n",
        "print(type(x), type(y),type(xy))"
      ],
      "execution_count": 2,
      "outputs": [
        {
          "output_type": "stream",
          "text": [
            "<class 'int'> <class 'float'> <class 'str'>\n"
          ],
          "name": "stdout"
        }
      ]
    },
    {
      "cell_type": "code",
      "metadata": {
        "trusted": true,
        "id": "KLl-pDNidLSG",
        "colab_type": "code",
        "outputId": "d9d11f3e-066b-4058-b362-78b2393ed4f3",
        "colab": {
          "base_uri": "https://localhost:8080/",
          "height": 36
        }
      },
      "source": [
        "print(x+y, xy)"
      ],
      "execution_count": 3,
      "outputs": [
        {
          "output_type": "stream",
          "text": [
            "7.2 Hey\n"
          ],
          "name": "stdout"
        }
      ]
    },
    {
      "cell_type": "markdown",
      "metadata": {
        "id": "zQJfAhXAdLSM",
        "colab_type": "text"
      },
      "source": [
        "Múltiplas variáveis podem ser atribuídas com o mesmo valor."
      ]
    },
    {
      "cell_type": "code",
      "metadata": {
        "trusted": true,
        "id": "UvSjfhdxdLSP",
        "colab_type": "code",
        "outputId": "c8a5ca65-ac17-4263-9d89-b246d04850a6",
        "colab": {
          "base_uri": "https://localhost:8080/",
          "height": 36
        }
      },
      "source": [
        "x , y = 1,2\n",
        "print(x, y)"
      ],
      "execution_count": 4,
      "outputs": [
        {
          "output_type": "stream",
          "text": [
            "1 2\n"
          ],
          "name": "stdout"
        }
      ]
    },
    {
      "cell_type": "markdown",
      "metadata": {
        "id": "X62RK7k0dLSW",
        "colab_type": "text"
      },
      "source": [
        "## 2. Operadores"
      ]
    },
    {
      "cell_type": "markdown",
      "metadata": {
        "id": "J7YG-GGqdLSZ",
        "colab_type": "text"
      },
      "source": [
        "### 2.1 Operadores Aritméticos"
      ]
    },
    {
      "cell_type": "code",
      "metadata": {
        "trusted": true,
        "id": "fIsOL5HgdLSb",
        "colab_type": "code",
        "outputId": "354c7a53-1aa7-4945-cd1f-af90ada866f5",
        "colab": {
          "base_uri": "https://localhost:8080/",
          "height": 36
        }
      },
      "source": [
        "1+2 #adição"
      ],
      "execution_count": 5,
      "outputs": [
        {
          "output_type": "execute_result",
          "data": {
            "text/plain": [
              "3"
            ]
          },
          "metadata": {
            "tags": []
          },
          "execution_count": 5
        }
      ]
    },
    {
      "cell_type": "code",
      "metadata": {
        "trusted": true,
        "id": "znlFzzYmdLSg",
        "colab_type": "code",
        "outputId": "54df5997-e4ce-4b68-edb7-e4e49debc2a9",
        "colab": {
          "base_uri": "https://localhost:8080/",
          "height": 36
        }
      },
      "source": [
        "2-3 #subtração"
      ],
      "execution_count": 6,
      "outputs": [
        {
          "output_type": "execute_result",
          "data": {
            "text/plain": [
              "-1"
            ]
          },
          "metadata": {
            "tags": []
          },
          "execution_count": 6
        }
      ]
    },
    {
      "cell_type": "code",
      "metadata": {
        "trusted": true,
        "id": "ajeV2RRvdLSl",
        "colab_type": "code",
        "outputId": "9f141a98-90d9-48ab-e706-fb9a94e5095d",
        "colab": {
          "base_uri": "https://localhost:8080/",
          "height": 36
        }
      },
      "source": [
        "2*5 #Multiplicação"
      ],
      "execution_count": 7,
      "outputs": [
        {
          "output_type": "execute_result",
          "data": {
            "text/plain": [
              "10"
            ]
          },
          "metadata": {
            "tags": []
          },
          "execution_count": 7
        }
      ]
    },
    {
      "cell_type": "code",
      "metadata": {
        "trusted": true,
        "id": "oHaaLRR_dLSs",
        "colab_type": "code",
        "outputId": "117d954c-accd-4d05-d4d4-edd953af4029",
        "colab": {
          "base_uri": "https://localhost:8080/",
          "height": 36
        }
      },
      "source": [
        "10/3 #divisão"
      ],
      "execution_count": 8,
      "outputs": [
        {
          "output_type": "execute_result",
          "data": {
            "text/plain": [
              "3.3333333333333335"
            ]
          },
          "metadata": {
            "tags": []
          },
          "execution_count": 8
        }
      ]
    },
    {
      "cell_type": "code",
      "metadata": {
        "trusted": true,
        "id": "lMo4TWRPdLSw",
        "colab_type": "code",
        "outputId": "62df25e3-8d83-426a-a564-8744c98326a7",
        "colab": {
          "base_uri": "https://localhost:8080/",
          "height": 36
        }
      },
      "source": [
        "10//3 #Divisão inteira"
      ],
      "execution_count": 9,
      "outputs": [
        {
          "output_type": "execute_result",
          "data": {
            "text/plain": [
              "3"
            ]
          },
          "metadata": {
            "tags": []
          },
          "execution_count": 9
        }
      ]
    },
    {
      "cell_type": "code",
      "metadata": {
        "trusted": true,
        "id": "tChIo4JEdLS2",
        "colab_type": "code",
        "outputId": "d05a67b2-4a95-492d-fb51-d485bd9cc776",
        "colab": {
          "base_uri": "https://localhost:8080/",
          "height": 36
        }
      },
      "source": [
        "10%7 #modulo"
      ],
      "execution_count": 10,
      "outputs": [
        {
          "output_type": "execute_result",
          "data": {
            "text/plain": [
              "3"
            ]
          },
          "metadata": {
            "tags": []
          },
          "execution_count": 10
        }
      ]
    },
    {
      "cell_type": "code",
      "metadata": {
        "trusted": true,
        "id": "kJWjA9QcdLS8",
        "colab_type": "code",
        "outputId": "2f2adcb4-d582-4493-bb4b-a1122f562afc",
        "colab": {
          "base_uri": "https://localhost:8080/",
          "height": 36
        }
      },
      "source": [
        "4**(1/2) #Potencia"
      ],
      "execution_count": 11,
      "outputs": [
        {
          "output_type": "execute_result",
          "data": {
            "text/plain": [
              "2.0"
            ]
          },
          "metadata": {
            "tags": []
          },
          "execution_count": 11
        }
      ]
    },
    {
      "cell_type": "markdown",
      "metadata": {
        "trusted": true,
        "id": "X1MlYpBFdLTC",
        "colab_type": "text"
      },
      "source": [
        "### 2.2 Operadores Relacionais"
      ]
    },
    {
      "cell_type": "code",
      "metadata": {
        "trusted": true,
        "id": "RLSe9a7WdLTD",
        "colab_type": "code",
        "outputId": "dcb241e1-c2e8-4329-9031-5b2c245d66a8",
        "colab": {
          "base_uri": "https://localhost:8080/",
          "height": 36
        }
      },
      "source": [
        "Z = 1\n",
        "Z == 1 #Igual a"
      ],
      "execution_count": 12,
      "outputs": [
        {
          "output_type": "execute_result",
          "data": {
            "text/plain": [
              "True"
            ]
          },
          "metadata": {
            "tags": []
          },
          "execution_count": 12
        }
      ]
    },
    {
      "cell_type": "code",
      "metadata": {
        "trusted": true,
        "id": "-ATTrK2ZdLTK",
        "colab_type": "code",
        "outputId": "6cdc49ca-cae6-44b9-b677-8211154290bb",
        "colab": {
          "base_uri": "https://localhost:8080/",
          "height": 36
        }
      },
      "source": [
        "Z != 1 #Diferente de"
      ],
      "execution_count": 13,
      "outputs": [
        {
          "output_type": "execute_result",
          "data": {
            "text/plain": [
              "False"
            ]
          },
          "metadata": {
            "tags": []
          },
          "execution_count": 13
        }
      ]
    },
    {
      "cell_type": "code",
      "metadata": {
        "trusted": true,
        "id": "Zk5msQr0dLTQ",
        "colab_type": "code",
        "outputId": "9bbcee3f-a939-4fcb-8853-b6abb88aa556",
        "colab": {
          "base_uri": "https://localhost:8080/",
          "height": 36
        }
      },
      "source": [
        "Z < 0 #Menor que"
      ],
      "execution_count": 14,
      "outputs": [
        {
          "output_type": "execute_result",
          "data": {
            "text/plain": [
              "False"
            ]
          },
          "metadata": {
            "tags": []
          },
          "execution_count": 14
        }
      ]
    },
    {
      "cell_type": "code",
      "metadata": {
        "trusted": true,
        "id": "PxMrBclvdLTV",
        "colab_type": "code",
        "outputId": "ad18d53e-585b-4744-89b0-5d040dca4389",
        "colab": {
          "base_uri": "https://localhost:8080/",
          "height": 36
        }
      },
      "source": [
        "Z > 0 #Maior que"
      ],
      "execution_count": 15,
      "outputs": [
        {
          "output_type": "execute_result",
          "data": {
            "text/plain": [
              "True"
            ]
          },
          "metadata": {
            "tags": []
          },
          "execution_count": 15
        }
      ]
    },
    {
      "cell_type": "code",
      "metadata": {
        "trusted": true,
        "id": "3fznFLOndLTZ",
        "colab_type": "code",
        "outputId": "d78dc916-83a7-4cfd-d77d-ecaf9d6473e8",
        "colab": {
          "base_uri": "https://localhost:8080/",
          "height": 36
        }
      },
      "source": [
        "Z <= 1 #Menor ou igual a "
      ],
      "execution_count": 16,
      "outputs": [
        {
          "output_type": "execute_result",
          "data": {
            "text/plain": [
              "True"
            ]
          },
          "metadata": {
            "tags": []
          },
          "execution_count": 16
        }
      ]
    },
    {
      "cell_type": "code",
      "metadata": {
        "trusted": true,
        "id": "8uX3mSmQdLTe",
        "colab_type": "code",
        "outputId": "602cc496-973f-41bf-f5f0-c43eb6ea0c45",
        "colab": {
          "base_uri": "https://localhost:8080/",
          "height": 36
        }
      },
      "source": [
        "Z >= 1 #Maior ou igual a"
      ],
      "execution_count": 17,
      "outputs": [
        {
          "output_type": "execute_result",
          "data": {
            "text/plain": [
              "True"
            ]
          },
          "metadata": {
            "tags": []
          },
          "execution_count": 17
        }
      ]
    },
    {
      "cell_type": "markdown",
      "metadata": {
        "id": "GGnqj2v6dLTi",
        "colab_type": "text"
      },
      "source": [
        "## 3. Tipos de dados básicos"
      ]
    },
    {
      "cell_type": "markdown",
      "metadata": {
        "id": "yegcNUtfdLTk",
        "colab_type": "text"
      },
      "source": [
        "### 3.1 Números"
      ]
    },
    {
      "cell_type": "markdown",
      "metadata": {
        "id": "3KvU08ZVdLTm",
        "colab_type": "text"
      },
      "source": [
        "inteiros e flutuantes funcionam como você esperaria de outras linguagens:"
      ]
    },
    {
      "cell_type": "code",
      "metadata": {
        "trusted": true,
        "id": "zxb_eiabdLTn",
        "colab_type": "code",
        "outputId": "bb56cf99-7673-49c5-e596-947059f58651",
        "colab": {
          "base_uri": "https://localhost:8080/",
          "height": 36
        }
      },
      "source": [
        "x = 3\n",
        "print(x, type(x))"
      ],
      "execution_count": 18,
      "outputs": [
        {
          "output_type": "stream",
          "text": [
            "3 <class 'int'>\n"
          ],
          "name": "stdout"
        }
      ]
    },
    {
      "cell_type": "code",
      "metadata": {
        "trusted": true,
        "id": "WpzXGUspdLTq",
        "colab_type": "code",
        "outputId": "e0919313-1d34-400e-8e72-453fee7e31a5",
        "colab": {
          "base_uri": "https://localhost:8080/",
          "height": 91
        }
      },
      "source": [
        "print(x + 1)   # Addition;\n",
        "print(x - 1)   # Subtraction;\n",
        "print(x * 2)   # Multiplication;\n",
        "print(x ** 2)  # Exponentiation;"
      ],
      "execution_count": 19,
      "outputs": [
        {
          "output_type": "stream",
          "text": [
            "4\n",
            "2\n",
            "6\n",
            "9\n"
          ],
          "name": "stdout"
        }
      ]
    },
    {
      "cell_type": "code",
      "metadata": {
        "trusted": true,
        "id": "1Go9SgP_dLTw",
        "colab_type": "code",
        "outputId": "0e9810eb-27dd-4472-faf8-455c0ff4bde8",
        "colab": {
          "base_uri": "https://localhost:8080/",
          "height": 54
        }
      },
      "source": [
        "x += 1\n",
        "print(x)  # Prints \"4\"\n",
        "x *= 2\n",
        "print(x)  # Prints \"8\""
      ],
      "execution_count": 20,
      "outputs": [
        {
          "output_type": "stream",
          "text": [
            "4\n",
            "8\n"
          ],
          "name": "stdout"
        }
      ]
    },
    {
      "cell_type": "markdown",
      "metadata": {
        "id": "DG9cR72_dLT3",
        "colab_type": "text"
      },
      "source": [
        "Obs.: O Python não possui operadores de incremento unário (x ++) ou decremento (x--)."
      ]
    },
    {
      "cell_type": "markdown",
      "metadata": {
        "id": "mHgGzAXNdLT4",
        "colab_type": "text"
      },
      "source": [
        "### 3.2 Boleano"
      ]
    },
    {
      "cell_type": "markdown",
      "metadata": {
        "id": "T7lUOKBpdLT5",
        "colab_type": "text"
      },
      "source": [
        "O Python implementa todos os operadores usuais da lógica booleana, mas usa palavras inglesas em vez de símbolos (&&, ||, etc.):"
      ]
    },
    {
      "cell_type": "code",
      "metadata": {
        "trusted": true,
        "id": "dsGApgw9dLT7",
        "colab_type": "code",
        "outputId": "115514be-1e5c-490b-f55e-ae68e6c363f3",
        "colab": {
          "base_uri": "https://localhost:8080/",
          "height": 0
        }
      },
      "source": [
        "t, f = True, False\n",
        "print(type(t)) # Prints \"<type 'bool'>\""
      ],
      "execution_count": 21,
      "outputs": [
        {
          "output_type": "stream",
          "text": [
            "<class 'bool'>\n"
          ],
          "name": "stdout"
        }
      ]
    },
    {
      "cell_type": "markdown",
      "metadata": {
        "id": "4biu3Iy8dLT_",
        "colab_type": "text"
      },
      "source": [
        "Operações"
      ]
    },
    {
      "cell_type": "code",
      "metadata": {
        "trusted": true,
        "id": "ASeiYO8sdLUA",
        "colab_type": "code",
        "outputId": "4f9ec2c4-cb68-4e32-b8ca-c2c9bcf2eb6a",
        "colab": {
          "base_uri": "https://localhost:8080/",
          "height": 0
        }
      },
      "source": [
        "print(t and f) # Logical AND;\n",
        "print(t or f)  # Logical OR;\n",
        "print(not t)   # Logical NOT;\n",
        "print(t != f)  # Logical XOR;"
      ],
      "execution_count": 22,
      "outputs": [
        {
          "output_type": "stream",
          "text": [
            "False\n",
            "True\n",
            "False\n",
            "True\n"
          ],
          "name": "stdout"
        }
      ]
    },
    {
      "cell_type": "markdown",
      "metadata": {
        "id": "0sfdJ_zydLUG",
        "colab_type": "text"
      },
      "source": [
        "### 3.3 String"
      ]
    },
    {
      "cell_type": "code",
      "metadata": {
        "trusted": true,
        "id": "TZadAnwldLUG",
        "colab_type": "code",
        "outputId": "49463b75-679f-40fc-a8cd-ba6d6da6a96b",
        "colab": {
          "base_uri": "https://localhost:8080/",
          "height": 0
        }
      },
      "source": [
        "hello = 'hello'   # String literals can use single quotes\n",
        "world = \"world\"   # or double quotes; it does not matter.\n",
        "print(hello, len(hello))\n",
        "print(hello[0:4])"
      ],
      "execution_count": 23,
      "outputs": [
        {
          "output_type": "stream",
          "text": [
            "hello 5\n",
            "hell\n"
          ],
          "name": "stdout"
        }
      ]
    },
    {
      "cell_type": "markdown",
      "metadata": {
        "id": "d4oehDLHdLUK",
        "colab_type": "text"
      },
      "source": [
        "## 4. Estrutura de dados"
      ]
    },
    {
      "cell_type": "markdown",
      "metadata": {
        "id": "Nus4HRwwdLUM",
        "colab_type": "text"
      },
      "source": [
        "### 4.1 Listas"
      ]
    },
    {
      "cell_type": "code",
      "metadata": {
        "trusted": true,
        "id": "8c2-e33_dLUM",
        "colab_type": "code",
        "outputId": "ddddb2d1-172d-46ec-a8c9-70bd1f210f1a",
        "colab": {
          "base_uri": "https://localhost:8080/",
          "height": 54
        }
      },
      "source": [
        "xs = [3, 1, 2]   # Create a list\n",
        "print(xs, xs[2])\n",
        "print(xs[-1])     # Negative indices count from the end of the list; prints \"2\""
      ],
      "execution_count": 24,
      "outputs": [
        {
          "output_type": "stream",
          "text": [
            "[3, 1, 2] 2\n",
            "2\n"
          ],
          "name": "stdout"
        }
      ]
    },
    {
      "cell_type": "code",
      "metadata": {
        "trusted": true,
        "id": "n7ixUUwUdLUR",
        "colab_type": "code",
        "outputId": "49986e5e-e84c-4da0-eb6c-e71581c26c0f",
        "colab": {
          "base_uri": "https://localhost:8080/",
          "height": 36
        }
      },
      "source": [
        "print(len(xs)) #número de elementos na lista"
      ],
      "execution_count": 25,
      "outputs": [
        {
          "output_type": "stream",
          "text": [
            "3\n"
          ],
          "name": "stdout"
        }
      ]
    },
    {
      "cell_type": "code",
      "metadata": {
        "trusted": true,
        "scrolled": true,
        "id": "whhbiYuJdLUW",
        "colab_type": "code",
        "outputId": "3721c30c-8cdd-424c-8492-284841cff5e0",
        "colab": {
          "base_uri": "https://localhost:8080/",
          "height": 36
        }
      },
      "source": [
        "xs[2] = 'foo'    # Lists can contain elements of different types\n",
        "print(xs)"
      ],
      "execution_count": 26,
      "outputs": [
        {
          "output_type": "stream",
          "text": [
            "[3, 1, 'foo']\n"
          ],
          "name": "stdout"
        }
      ]
    },
    {
      "cell_type": "code",
      "metadata": {
        "trusted": true,
        "id": "buXON0efdLUZ",
        "colab_type": "code",
        "outputId": "cbd044b5-df42-4c9e-c112-bcc68161a088",
        "colab": {
          "base_uri": "https://localhost:8080/",
          "height": 36
        }
      },
      "source": [
        "xs.append('bar') # Add a new element to the end of the list\n",
        "print(xs)  "
      ],
      "execution_count": 27,
      "outputs": [
        {
          "output_type": "stream",
          "text": [
            "[3, 1, 'foo', 'bar']\n"
          ],
          "name": "stdout"
        }
      ]
    },
    {
      "cell_type": "code",
      "metadata": {
        "trusted": true,
        "id": "rHOSNQQpdLUd",
        "colab_type": "code",
        "outputId": "e2fd2145-cafc-494a-aa41-4598c389c52b",
        "colab": {
          "base_uri": "https://localhost:8080/",
          "height": 36
        }
      },
      "source": [
        "x = xs.pop()     # Remove and return the last element of the list\n",
        "print(x, xs )"
      ],
      "execution_count": 28,
      "outputs": [
        {
          "output_type": "stream",
          "text": [
            "bar [3, 1, 'foo']\n"
          ],
          "name": "stdout"
        }
      ]
    },
    {
      "cell_type": "code",
      "metadata": {
        "trusted": true,
        "id": "ZzU5HFPGdLUg",
        "colab_type": "code",
        "outputId": "0c9bf214-6484-45a1-b0f5-920123d76a95",
        "colab": {
          "base_uri": "https://localhost:8080/",
          "height": 36
        }
      },
      "source": [
        "lista1 = [1,3,5,6,5,4,3]\n",
        "print(sum(lista1))"
      ],
      "execution_count": 29,
      "outputs": [
        {
          "output_type": "stream",
          "text": [
            "27\n"
          ],
          "name": "stdout"
        }
      ]
    },
    {
      "cell_type": "code",
      "metadata": {
        "trusted": true,
        "id": "_3N8b_hYdLUj",
        "colab_type": "code",
        "outputId": "dfec8d99-43b5-4420-9aa0-adfd361e68a0",
        "colab": {
          "base_uri": "https://localhost:8080/",
          "height": 36
        }
      },
      "source": [
        "lista1.remove(3) #remove a primeira ocorrência da lista\n",
        "print(lista1)"
      ],
      "execution_count": 30,
      "outputs": [
        {
          "output_type": "stream",
          "text": [
            "[1, 5, 6, 5, 4, 3]\n"
          ],
          "name": "stdout"
        }
      ]
    },
    {
      "cell_type": "code",
      "metadata": {
        "trusted": true,
        "id": "LDZwVYwfdLUl",
        "colab_type": "code",
        "outputId": "7db143dd-5e3d-4c23-8025-fbc109fbba54",
        "colab": {
          "base_uri": "https://localhost:8080/",
          "height": 36
        }
      },
      "source": [
        "print(lista1.count(5)) #Retorna o número de ocorrência"
      ],
      "execution_count": 31,
      "outputs": [
        {
          "output_type": "stream",
          "text": [
            "2\n"
          ],
          "name": "stdout"
        }
      ]
    },
    {
      "cell_type": "code",
      "metadata": {
        "trusted": true,
        "id": "ljVZGpKldLUo",
        "colab_type": "code",
        "outputId": "4d84bfcb-a040-4b7e-e8cd-ab26bb833a8c",
        "colab": {
          "base_uri": "https://localhost:8080/",
          "height": 36
        }
      },
      "source": [
        "4 in lista1"
      ],
      "execution_count": 32,
      "outputs": [
        {
          "output_type": "execute_result",
          "data": {
            "text/plain": [
              "True"
            ]
          },
          "metadata": {
            "tags": []
          },
          "execution_count": 32
        }
      ]
    },
    {
      "cell_type": "code",
      "metadata": {
        "id": "7F1jxRVSST1D",
        "colab_type": "code",
        "colab": {}
      },
      "source": [
        "lista1.clear()  #remove todos os elementos da lista"
      ],
      "execution_count": 0,
      "outputs": []
    },
    {
      "cell_type": "markdown",
      "metadata": {
        "id": "tZ2QMlDmdLUq",
        "colab_type": "text"
      },
      "source": [
        "### 4.2 Dicionários"
      ]
    },
    {
      "cell_type": "code",
      "metadata": {
        "trusted": true,
        "id": "czhRC3bRdLUr",
        "colab_type": "code",
        "outputId": "199d04c2-2e50-4727-fa9b-625bff46e158",
        "colab": {
          "base_uri": "https://localhost:8080/",
          "height": 0
        }
      },
      "source": [
        "d = {'cat': 'cute', 'dog': 'furry'}  # Create a new dictionary with some data\n",
        "print(d['cat'])       # Get an entry from a dictionary; prints \"cute\"\n",
        "print('cat' in d)     # Check if a dictionary has a given key; prints \"True\""
      ],
      "execution_count": 34,
      "outputs": [
        {
          "output_type": "stream",
          "text": [
            "cute\n",
            "True\n"
          ],
          "name": "stdout"
        }
      ]
    },
    {
      "cell_type": "markdown",
      "metadata": {
        "id": "e4fSVsqmdLUu",
        "colab_type": "text"
      },
      "source": [
        "### 4.3 Tuplas"
      ]
    },
    {
      "cell_type": "markdown",
      "metadata": {
        "id": "ojdt0KU4dLUv",
        "colab_type": "text"
      },
      "source": [
        "Uma tupla é uma lista ordenada (imutável) de valores. Uma tupla é, em muitos aspectos, semelhante a uma lista; Uma das diferenças mais importantes é que as tuplas podem ser usadas como chaves em dicionários e como elementos de conjuntos, enquanto as listas não podem. Aqui está um exemplo trivial:"
      ]
    },
    {
      "cell_type": "code",
      "metadata": {
        "trusted": true,
        "id": "Fq2CWvJadLUx",
        "colab_type": "code",
        "outputId": "85889792-3267-4bc2-e2ac-93a5a4ccb2c4",
        "colab": {
          "base_uri": "https://localhost:8080/",
          "height": 0
        }
      },
      "source": [
        "d = {(x, x + 1): x for x in range(10)}  # Create a dictionary with tuple keys\n",
        "t = (5, 6)       # Create a tuple\n",
        "print(type(t))\n",
        "print(d[t]) \n",
        "print(d[(1, 2)])"
      ],
      "execution_count": 35,
      "outputs": [
        {
          "output_type": "stream",
          "text": [
            "<class 'tuple'>\n",
            "5\n",
            "1\n"
          ],
          "name": "stdout"
        }
      ]
    },
    {
      "cell_type": "code",
      "metadata": {
        "trusted": true,
        "id": "G6Q2F34IdLU0",
        "colab_type": "code",
        "colab": {}
      },
      "source": [
        "e = 4\n",
        "t = (1,2,e)"
      ],
      "execution_count": 0,
      "outputs": []
    },
    {
      "cell_type": "markdown",
      "metadata": {
        "id": "HzkeVdiDdLU9",
        "colab_type": "text"
      },
      "source": [
        "## 5. Estruturas de condição e repetição"
      ]
    },
    {
      "cell_type": "markdown",
      "metadata": {
        "id": "AznouuRSdLU_",
        "colab_type": "text"
      },
      "source": [
        "### 5.1 If e else"
      ]
    },
    {
      "cell_type": "code",
      "metadata": {
        "trusted": true,
        "id": "W8SgXyFedLVA",
        "colab_type": "code",
        "outputId": "71656051-2fd1-4805-a007-95b5d0931e4a",
        "colab": {
          "base_uri": "https://localhost:8080/",
          "height": 0
        }
      },
      "source": [
        "a, b = 1, 2\n",
        "if a > b:\n",
        "    print(str(a)+' é maior que '+str(b))\n",
        "elif a < b:\n",
        "    print(str(a)+' é menor que '+str(b))\n",
        "else:\n",
        "    print(str(a)+' é igual a '+str(b))"
      ],
      "execution_count": 37,
      "outputs": [
        {
          "output_type": "stream",
          "text": [
            "1 é menor que 2\n"
          ],
          "name": "stdout"
        }
      ]
    },
    {
      "cell_type": "markdown",
      "metadata": {
        "id": "yZ9XLV4udLVE",
        "colab_type": "text"
      },
      "source": [
        "### 5.2 Loops"
      ]
    },
    {
      "cell_type": "code",
      "metadata": {
        "trusted": true,
        "id": "L5JEDgH_dLVF",
        "colab_type": "code",
        "outputId": "ccf71171-c65b-46b3-8986-f993c96eff22",
        "colab": {
          "base_uri": "https://localhost:8080/",
          "height": 73
        }
      },
      "source": [
        "animals = ['cat', 'dog', 'monkey']\n",
        "for animal in animals:\n",
        "    print(animal)"
      ],
      "execution_count": 38,
      "outputs": [
        {
          "output_type": "stream",
          "text": [
            "cat\n",
            "dog\n",
            "monkey\n"
          ],
          "name": "stdout"
        }
      ]
    },
    {
      "cell_type": "code",
      "metadata": {
        "trusted": true,
        "id": "1BNdLhCjdLVK",
        "colab_type": "code",
        "outputId": "f945cfec-8e07-4ad9-f02f-b1c7d9147dff",
        "colab": {
          "base_uri": "https://localhost:8080/",
          "height": 54
        }
      },
      "source": [
        "print(list(range(3)))#retorna uma série numérica no intervalo enviado como argumento.\n",
        "print(list(range(3,5)))"
      ],
      "execution_count": 39,
      "outputs": [
        {
          "output_type": "stream",
          "text": [
            "[0, 1, 2]\n",
            "[3, 4]\n"
          ],
          "name": "stdout"
        }
      ]
    },
    {
      "cell_type": "code",
      "metadata": {
        "trusted": true,
        "id": "6J_spD-9dLVO",
        "colab_type": "code",
        "outputId": "36495470-d92e-4a2f-9ed8-5af3750ea3aa",
        "colab": {
          "base_uri": "https://localhost:8080/",
          "height": 73
        }
      },
      "source": [
        "for i in range(len(animals)):\n",
        "    print(i, animals[i])"
      ],
      "execution_count": 40,
      "outputs": [
        {
          "output_type": "stream",
          "text": [
            "0 cat\n",
            "1 dog\n",
            "2 monkey\n"
          ],
          "name": "stdout"
        }
      ]
    },
    {
      "cell_type": "code",
      "metadata": {
        "trusted": true,
        "id": "f7z7BMJtdLVR",
        "colab_type": "code",
        "outputId": "e886e32f-9838-4de2-979a-6a894ddc8633",
        "colab": {
          "base_uri": "https://localhost:8080/",
          "height": 73
        }
      },
      "source": [
        "conta = 8\n",
        "while(conta <= 10):\n",
        "    print(conta)\n",
        "    conta+=1"
      ],
      "execution_count": 41,
      "outputs": [
        {
          "output_type": "stream",
          "text": [
            "8\n",
            "9\n",
            "10\n"
          ],
          "name": "stdout"
        }
      ]
    },
    {
      "cell_type": "markdown",
      "metadata": {
        "id": "22-3eXhIdLVU",
        "colab_type": "text"
      },
      "source": [
        "## 6. Funções"
      ]
    },
    {
      "cell_type": "code",
      "metadata": {
        "trusted": true,
        "id": "7jjFnkgodLVW",
        "colab_type": "code",
        "outputId": "3d86fd95-b65c-4cd3-9abd-c7b49f48d8d9",
        "colab": {
          "base_uri": "https://localhost:8080/",
          "height": 36
        }
      },
      "source": [
        "def hello(name, loud=False):\n",
        "    if loud:\n",
        "        print('HELLO, %s' % name.upper())\n",
        "    else:\n",
        "        #print('Hello, %s!' % name)\n",
        "        return 'Hello, %s!' % name\n",
        "\n",
        "hello('Bob')\n",
        "hello('Fred', loud=True)"
      ],
      "execution_count": 42,
      "outputs": [
        {
          "output_type": "stream",
          "text": [
            "HELLO, FRED\n"
          ],
          "name": "stdout"
        }
      ]
    },
    {
      "cell_type": "markdown",
      "metadata": {
        "id": "BTzTLFpEdLVa",
        "colab_type": "text"
      },
      "source": [
        "## 7. Numpy"
      ]
    },
    {
      "cell_type": "markdown",
      "metadata": {
        "id": "PD0TY445dLVa",
        "colab_type": "text"
      },
      "source": [
        "Numpy é a biblioteca central para computação científica em Python. Ele fornece um objeto de matriz multidimensional de alto desempenho e ferramentas para trabalhar com essas matrizes.\n",
        "Para usar o Numpy, primeiro precisamos importar o pacote numpy:"
      ]
    },
    {
      "cell_type": "code",
      "metadata": {
        "trusted": true,
        "id": "r70lWErAdLVb",
        "colab_type": "code",
        "colab": {}
      },
      "source": [
        "import numpy as np"
      ],
      "execution_count": 0,
      "outputs": []
    },
    {
      "cell_type": "markdown",
      "metadata": {
        "id": "lzdqAI7EdLVf",
        "colab_type": "text"
      },
      "source": [
        "### 7.1 Arrays"
      ]
    },
    {
      "cell_type": "code",
      "metadata": {
        "trusted": true,
        "id": "B5H1NsTIdLVf",
        "colab_type": "code",
        "outputId": "ea66e7cf-f856-4ac0-832c-7bbae89e83eb",
        "colab": {
          "base_uri": "https://localhost:8080/",
          "height": 54
        }
      },
      "source": [
        "a = np.array([1, 2, 3])  # Create a rank 1 array\n",
        "print(type(a), a.shape, a[0], a[1], a[2])\n",
        "a[0] = 5                 # Change an element of the array\n",
        "print(a)  "
      ],
      "execution_count": 44,
      "outputs": [
        {
          "output_type": "stream",
          "text": [
            "<class 'numpy.ndarray'> (3,) 1 2 3\n",
            "[5 2 3]\n"
          ],
          "name": "stdout"
        }
      ]
    },
    {
      "cell_type": "code",
      "metadata": {
        "trusted": true,
        "id": "Vuqa_txAdLVg",
        "colab_type": "code",
        "outputId": "bf25e167-2aae-40de-bb7d-eebf9b8a50e9",
        "colab": {
          "base_uri": "https://localhost:8080/",
          "height": 54
        }
      },
      "source": [
        "b = np.array([[1,2,3],[4,5,6]])   # Create a rank 2 array\n",
        "print(b)"
      ],
      "execution_count": 45,
      "outputs": [
        {
          "output_type": "stream",
          "text": [
            "[[1 2 3]\n",
            " [4 5 6]]\n"
          ],
          "name": "stdout"
        }
      ]
    },
    {
      "cell_type": "code",
      "metadata": {
        "trusted": true,
        "id": "Az4feU2MdLVj",
        "colab_type": "code",
        "outputId": "e75054ec-e120-49fd-8560-e11d2eb33968",
        "colab": {
          "base_uri": "https://localhost:8080/",
          "height": 54
        }
      },
      "source": [
        "a = np.zeros((2,2))  # Create an array of all zeros\n",
        "print(a)"
      ],
      "execution_count": 46,
      "outputs": [
        {
          "output_type": "stream",
          "text": [
            "[[0. 0.]\n",
            " [0. 0.]]\n"
          ],
          "name": "stdout"
        }
      ]
    },
    {
      "cell_type": "code",
      "metadata": {
        "trusted": true,
        "id": "fpYbKM7fdLVl",
        "colab_type": "code",
        "outputId": "8a36169b-1199-45e5-c65b-8818c701d6e5",
        "colab": {
          "base_uri": "https://localhost:8080/",
          "height": 73
        }
      },
      "source": [
        "b = np.ones((3,2))   # Create an array of all ones\n",
        "print(b)"
      ],
      "execution_count": 47,
      "outputs": [
        {
          "output_type": "stream",
          "text": [
            "[[1. 1.]\n",
            " [1. 1.]\n",
            " [1. 1.]]\n"
          ],
          "name": "stdout"
        }
      ]
    },
    {
      "cell_type": "code",
      "metadata": {
        "trusted": true,
        "id": "6nesNJ_EdLVo",
        "colab_type": "code",
        "outputId": "4cefc952-de14-498e-8d44-ae7e9455ac52",
        "colab": {
          "base_uri": "https://localhost:8080/",
          "height": 54
        }
      },
      "source": [
        "c = np.full((2,2), 7) # Create a constant array\n",
        "print(c) "
      ],
      "execution_count": 48,
      "outputs": [
        {
          "output_type": "stream",
          "text": [
            "[[7 7]\n",
            " [7 7]]\n"
          ],
          "name": "stdout"
        }
      ]
    },
    {
      "cell_type": "code",
      "metadata": {
        "trusted": true,
        "id": "mtArJ7V0dLVq",
        "colab_type": "code",
        "outputId": "e4e36810-c7b2-484c-bd49-c3581ed14fbf",
        "colab": {
          "base_uri": "https://localhost:8080/",
          "height": 54
        }
      },
      "source": [
        "d = np.eye(2)        # Create a 2x2 identity matrix\n",
        "print(d)"
      ],
      "execution_count": 49,
      "outputs": [
        {
          "output_type": "stream",
          "text": [
            "[[1. 0.]\n",
            " [0. 1.]]\n"
          ],
          "name": "stdout"
        }
      ]
    },
    {
      "cell_type": "code",
      "metadata": {
        "trusted": true,
        "id": "ON4aW5hAdLVs",
        "colab_type": "code",
        "outputId": "bd63fb2b-a4e8-4cec-ec25-c2082155f1bc",
        "colab": {
          "base_uri": "https://localhost:8080/",
          "height": 54
        }
      },
      "source": [
        "e = np.random.random((2,2)) # Create an array filled with random values\n",
        "print(e)"
      ],
      "execution_count": 50,
      "outputs": [
        {
          "output_type": "stream",
          "text": [
            "[[0.03989067 0.2762136 ]\n",
            " [0.11653255 0.11829325]]\n"
          ],
          "name": "stdout"
        }
      ]
    },
    {
      "cell_type": "code",
      "metadata": {
        "trusted": true,
        "id": "Dit3r0ixdLVz",
        "colab_type": "code",
        "outputId": "91ad03d8-ec97-4cde-9b23-70f5bc4e7ebf",
        "colab": {
          "base_uri": "https://localhost:8080/",
          "height": 54
        }
      },
      "source": [
        "# Create the following rank 2 array with shape (3, 4)\n",
        "# [[ 1  2  3  4]\n",
        "#  [ 5  6  7  8]\n",
        "#  [ 9 10 11 12]]\n",
        "a = np.array([[1,2,3,4], [5,6,7,8], [9,10,11,12]])\n",
        "\n",
        "# Use slicing to pull out the subarray consisting of the first 2 rows\n",
        "# and columns 1 and 2; b is the following array of shape (2, 2):\n",
        "# [[2 3]\n",
        "#  [6 7]]\n",
        "b = a[:2, 1:3]\n",
        "print(b)"
      ],
      "execution_count": 51,
      "outputs": [
        {
          "output_type": "stream",
          "text": [
            "[[2 3]\n",
            " [6 7]]\n"
          ],
          "name": "stdout"
        }
      ]
    },
    {
      "cell_type": "code",
      "metadata": {
        "trusted": true,
        "id": "uTRygiN1dLV1",
        "colab_type": "code",
        "outputId": "3bc35f2a-10e8-4e4f-98f3-76fbfa4e059a",
        "colab": {
          "base_uri": "https://localhost:8080/",
          "height": 54
        }
      },
      "source": [
        "f = np.arange(3)\n",
        "g = np.arange(3,7)\n",
        "print(f)\n",
        "print(g)"
      ],
      "execution_count": 52,
      "outputs": [
        {
          "output_type": "stream",
          "text": [
            "[0 1 2]\n",
            "[3 4 5 6]\n"
          ],
          "name": "stdout"
        }
      ]
    },
    {
      "cell_type": "markdown",
      "metadata": {
        "id": "P7vBXcrWdLV4",
        "colab_type": "text"
      },
      "source": [
        "### 7.2 Datatypes"
      ]
    },
    {
      "cell_type": "markdown",
      "metadata": {
        "id": "vMSseVuGdLV5",
        "colab_type": "text"
      },
      "source": [
        "Cada matriz numpy é uma grade de elementos do mesmo tipo. Numpy fornece um grande conjunto de tipos de dados numéricos que você pode usar para construir matrizes. Numpy tenta adivinhar um tipo de dados quando você cria uma matriz, mas funções que constroem matrizes geralmente também incluem um argumento opcional para especificar explicitamente o tipo de dados. Aqui está um exemplo:"
      ]
    },
    {
      "cell_type": "code",
      "metadata": {
        "trusted": true,
        "id": "HIFwLBD2dLV5",
        "colab_type": "code",
        "outputId": "22cda236-eaf5-41e4-d814-79a3f1a82866",
        "colab": {
          "base_uri": "https://localhost:8080/",
          "height": 0
        }
      },
      "source": [
        "x = np.array([1, 2])  # Let numpy choose the datatype\n",
        "y = np.array([1.0, 2.0])  # Let numpy choose the datatype\n",
        "z = np.array([1, 2], dtype=np.int64)  # Force a particular datatype\n",
        "w = np.array([1, 2], dtype=np.uint8)\n",
        "print(x.dtype, y.dtype, z.dtype, w.dtype)"
      ],
      "execution_count": 53,
      "outputs": [
        {
          "output_type": "stream",
          "text": [
            "int64 float64 int64 uint8\n"
          ],
          "name": "stdout"
        }
      ]
    },
    {
      "cell_type": "markdown",
      "metadata": {
        "id": "O3t5WhnwdLV7",
        "colab_type": "text"
      },
      "source": [
        "### 7.3 Soma"
      ]
    },
    {
      "cell_type": "code",
      "metadata": {
        "trusted": true,
        "id": "w5UC6xZgdLV8",
        "colab_type": "code",
        "outputId": "3f92c047-a10b-4f61-a672-e0971d2d362f",
        "colab": {
          "base_uri": "https://localhost:8080/",
          "height": 0
        }
      },
      "source": [
        "y = np.array([1,2,3])\n",
        "x = np.array([[1,2],[3,4]])\n",
        "print(np.sum(y))\n",
        "print(np.sum(x))  # Compute sum of all elements; prints \"10\"\n",
        "print(np.sum(x, axis=0))  # Compute sum of each column; prints \"[4 6]\"\n",
        "print(np.sum(x, axis=1))  # Compute sum of each row; prints \"[3 7]\""
      ],
      "execution_count": 54,
      "outputs": [
        {
          "output_type": "stream",
          "text": [
            "6\n",
            "10\n",
            "[4 6]\n",
            "[3 7]\n"
          ],
          "name": "stdout"
        }
      ]
    },
    {
      "cell_type": "markdown",
      "metadata": {
        "id": "cnQwQ2E-dLV_",
        "colab_type": "text"
      },
      "source": [
        "## 8. Matplotlib"
      ]
    },
    {
      "cell_type": "code",
      "metadata": {
        "trusted": true,
        "id": "-adO4-wFdLV_",
        "colab_type": "code",
        "outputId": "1c3b5d7a-96be-4934-f3aa-ca451e00c1c1",
        "colab": {
          "base_uri": "https://localhost:8080/",
          "height": 288
        }
      },
      "source": [
        "%matplotlib inline\n",
        "import matplotlib.pyplot as plt\n",
        " \n",
        "\n",
        "# Compute the x and y coordinates for points on a sine curve\n",
        "x = np.arange(0, 3 * np.pi, 0.1)\n",
        "y = np.sin(x)\n",
        "\n",
        "# Plot the points using matplotlib\n",
        "plt.plot(x, y)"
      ],
      "execution_count": 55,
      "outputs": [
        {
          "output_type": "execute_result",
          "data": {
            "text/plain": [
              "[<matplotlib.lines.Line2D at 0x7f48251a4128>]"
            ]
          },
          "metadata": {
            "tags": []
          },
          "execution_count": 55
        },
        {
          "output_type": "display_data",
          "data": {
            "image/png": "[encoded data removed]",
            "text/plain": [
              "<Figure size 432x288 with 1 Axes>"
            ]
          },
          "metadata": {
            "tags": []
          }
        }
      ]
    },
    {
      "cell_type": "markdown",
      "metadata": {
        "id": "IQQqlrwndLWC",
        "colab_type": "text"
      },
      "source": [
        "## 9. Opencv"
      ]
    },
    {
      "cell_type": "code",
      "metadata": {
        "trusted": true,
        "id": "G5_188hadLWD",
        "colab_type": "code",
        "colab": {}
      },
      "source": [
        "import cv2 # OpenCV-Python"
      ],
      "execution_count": 0,
      "outputs": []
    },
    {
      "cell_type": "markdown",
      "metadata": {
        "id": "un6BiVOIdLWF",
        "colab_type": "text"
      },
      "source": [
        "### 9.1 Lendo e escrevendo imagens"
      ]
    },
    {
      "cell_type": "code",
      "metadata": {
        "trusted": true,
        "id": "SRcHlWSWdLWH",
        "colab_type": "code",
        "outputId": "4bad2c8c-1fab-45ba-f854-039eea774808",
        "colab": {
          "base_uri": "https://localhost:8080/",
          "height": 537
        }
      },
      "source": [
        "img = cv2.imread('processamento_imagens/imagens/varig747.jpg') #Lendo uma imagem\n",
        "print(img.shape)\n",
        "\n",
        "plt.figure(figsize=(6, 6), dpi= 80, facecolor='w', edgecolor='k')\n",
        "plt.axis(\"off\")\n",
        "plt.imshow(cv2.cvtColor(img, cv2.COLOR_BGR2RGB)) #Conversão necessária para protar a imagem, devido ao opencv usa o \n",
        "                                                 #formato RGB, enquanto o matplotlib usa RGB\n"
      ],
      "execution_count": 57,
      "outputs": [
        {
          "output_type": "stream",
          "text": [
            "(486, 720, 3)\n"
          ],
          "name": "stdout"
        },
        {
          "output_type": "error",
          "ename": "NameError",
          "evalue": "ignored",
          "traceback": [
            "\u001b[0;31m---------------------------------------------------------------------------\u001b[0m",
            "\u001b[0;31mNameError\u001b[0m                                 Traceback (most recent call last)",
            "\u001b[0;32m<ipython-input-57-210cefec61f7>\u001b[0m in \u001b[0;36m<module>\u001b[0;34m()\u001b[0m\n\u001b[1;32m      7\u001b[0m                                                  \u001b[0;31m#formato RGB, enquanto o matplotlib usa RGB\u001b[0m\u001b[0;34m\u001b[0m\u001b[0;34m\u001b[0m\u001b[0;34m\u001b[0m\u001b[0m\n\u001b[1;32m      8\u001b[0m \u001b[0mvarig_gray\u001b[0m \u001b[0;34m=\u001b[0m \u001b[0mcv2\u001b[0m\u001b[0;34m.\u001b[0m\u001b[0mcvtColor\u001b[0m\u001b[0;34m(\u001b[0m\u001b[0mimg\u001b[0m\u001b[0;34m,\u001b[0m \u001b[0mcv2\u001b[0m\u001b[0;34m.\u001b[0m\u001b[0mCOLOR_BGR2GRAY\u001b[0m\u001b[0;34m)\u001b[0m\u001b[0;34m\u001b[0m\u001b[0;34m\u001b[0m\u001b[0m\n\u001b[0;32m----> 9\u001b[0;31m \u001b[0mcv2\u001b[0m\u001b[0;34m.\u001b[0m\u001b[0mimwrite\u001b[0m\u001b[0;34m(\u001b[0m\u001b[0;34m'varig_gray.jpg'\u001b[0m\u001b[0;34m,\u001b[0m \u001b[0mgray\u001b[0m\u001b[0;34m)\u001b[0m\u001b[0;34m\u001b[0m\u001b[0;34m\u001b[0m\u001b[0m\n\u001b[0m",
            "\u001b[0;31mNameError\u001b[0m: name 'gray' is not defined"
          ]
        },
        {
          "output_type": "display_data",
          "data": {
            "image/png": "[encoded data removed]",
            "text/plain": [
              "<Figure size 480x480 with 1 Axes>"
            ]
          },
          "metadata": {
            "tags": []
          }
        }
      ]
    },
    {
      "cell_type": "code",
      "metadata": {
        "trusted": true,
        "id": "q7RRYjppdLWJ",
        "colab_type": "code",
        "outputId": "24bba970-f56e-4fc1-a306-3e36ee77e997",
        "colab": {
          "base_uri": "https://localhost:8080/",
          "height": 306
        }
      },
      "source": [
        "varig_gray = cv2.cvtColor(img, cv2.COLOR_BGR2GRAY)\n",
        "print(varig_gray.shape)\n",
        "plt.imshow(varig_gray, cmap='gray') \n",
        "\n",
        "cv2.imwrite('varig_gray.jpg', varig_gray) #salva uma imagem no caminho especificado"
      ],
      "execution_count": 59,
      "outputs": [
        {
          "output_type": "stream",
          "text": [
            "(486, 720)\n"
          ],
          "name": "stdout"
        },
        {
          "output_type": "execute_result",
          "data": {
            "text/plain": [
              "True"
            ]
          },
          "metadata": {
            "tags": []
          },
          "execution_count": 59
        },
        {
          "output_type": "display_data",
          "data": {
            "image/png": "[encoded data removed]",
            "text/plain": [
              "<Figure size 432x288 with 1 Axes>"
            ]
          },
          "metadata": {
            "tags": []
          }
        }
      ]
    },
    {
      "cell_type": "markdown",
      "metadata": {
        "id": "CBmjEau_dLWM",
        "colab_type": "text"
      },
      "source": [
        "*italicized text*### 9.2 Histograma da imagem"
      ]
    },
    {
      "cell_type": "markdown",
      "metadata": {
        "id": "6Fn8tZ7VdLWd",
        "colab_type": "text"
      },
      "source": [
        "### 9.2 Algumas coisas úteis"
      ]
    },
    {
      "cell_type": "markdown",
      "metadata": {
        "id": "NqxkK_RpdLWl",
        "colab_type": "text"
      },
      "source": [
        "# #### 9.2.1 Criando uma imagem com numpy"
      ]
    },
    {
      "cell_type": "code",
      "metadata": {
        "trusted": true,
        "id": "T8pZwvQLdLWm",
        "colab_type": "code",
        "outputId": "44cddd0d-029e-41dd-c203-b3c76c8b8227",
        "colab": {
          "base_uri": "https://localhost:8080/",
          "height": 288
        }
      },
      "source": [
        "# Create a black image\n",
        "img2 = np.zeros((512,512,3), np.uint8)\n",
        "plt.imshow(img2)"
      ],
      "execution_count": 60,
      "outputs": [
        {
          "output_type": "execute_result",
          "data": {
            "text/plain": [
              "<matplotlib.image.AxesImage at 0x7f48188806d8>"
            ]
          },
          "metadata": {
            "tags": []
          },
          "execution_count": 60
        },
        {
          "output_type": "display_data",
          "data": {
            "image/png": "[encoded data removed]",
            "text/plain": [
              "<Figure size 432x288 with 1 Axes>"
            ]
          },
          "metadata": {
            "tags": []
          }
        }
      ]
    },
    {
      "cell_type": "code",
      "metadata": {
        "trusted": true,
        "id": "uNCAEidkdLWn",
        "colab_type": "code",
        "outputId": "5927f5b9-180d-421b-a7bb-ce8e91bed480",
        "colab": {
          "base_uri": "https://localhost:8080/",
          "height": 306
        }
      },
      "source": [
        "print(img2.shape)\n",
        "img2[:200, :200] = [255,0,160]\n",
        "img3 = cv2.cvtColor(img2, cv2.COLOR_BGR2RGB)\n",
        "plt.imshow(img3)"
      ],
      "execution_count": 61,
      "outputs": [
        {
          "output_type": "stream",
          "text": [
            "(512, 512, 3)\n"
          ],
          "name": "stdout"
        },
        {
          "output_type": "execute_result",
          "data": {
            "text/plain": [
              "<matplotlib.image.AxesImage at 0x7f481885c550>"
            ]
          },
          "metadata": {
            "tags": []
          },
          "execution_count": 61
        },
        {
          "output_type": "display_data",
          "data": {
            "image/png": "[encoded data removed]",
            "text/plain": [
              "<Figure size 432x288 with 1 Axes>"
            ]
          },
          "metadata": {
            "tags": []
          }
        }
      ]
    },
    {
      "cell_type": "markdown",
      "metadata": {
        "id": "POz13436dLWq",
        "colab_type": "text"
      },
      "source": [
        "#### 9.2.2 Separando Canais"
      ]
    },
    {
      "cell_type": "markdown",
      "metadata": {
        "id": "sZvMRnIhdLWq",
        "colab_type": "text"
      },
      "source": [
        "OBS.: Para unir novamente os canais use \"img = cv2.merge((b,g,r))\""
      ]
    },
    {
      "cell_type": "code",
      "metadata": {
        "trusted": true,
        "id": "YTo6KmcwdLWr",
        "colab_type": "code",
        "outputId": "67cefce5-e647-404a-9f9f-62c9c806208b",
        "colab": {
          "base_uri": "https://localhost:8080/",
          "height": 228
        }
      },
      "source": [
        "b, g, r = cv2.split(img2)\n",
        "fig, axes = plt.subplots(1, 3, figsize=(10, 5))\n",
        "ax = axes.ravel()\n",
        "\n",
        "ax[0].imshow(r, cmap='gray')\n",
        "ax[0].set_title('R')\n",
        "ax[0].set_axis_off()\n",
        "\n",
        "ax[1].imshow(g, cmap='gray')\n",
        "ax[1].set_title('G')\n",
        "ax[1].set_axis_off()\n",
        "\n",
        "ax[2].imshow(b, cmap='gray')\n",
        "ax[2].set_title('B')\n",
        "ax[2].set_axis_off()"
      ],
      "execution_count": 62,
      "outputs": [
        {
          "output_type": "display_data",
          "data": {
            "image/png": "[encoded data removed]",
            "text/plain": [
              "<Figure size 720x360 with 3 Axes>"
            ]
          },
          "metadata": {
            "tags": []
          }
        }
      ]
    },
    {
      "cell_type": "code",
      "metadata": {
        "trusted": true,
        "id": "pYrJicnidLWv",
        "colab_type": "code",
        "colab": {}
      },
      "source": [
        ""
      ],
      "execution_count": 0,
      "outputs": []
    }
  ]
}